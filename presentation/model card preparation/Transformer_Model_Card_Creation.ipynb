{
  "cells": [
    {
      "cell_type": "markdown",
      "metadata": {
        "id": "3y5__yaUKyb1"
      },
      "source": [
        "The model card template makes use of Jinja, hence we need to install the necessary package."
      ]
    },
    {
      "cell_type": "code",
      "execution_count": 4,
      "metadata": {
        "colab": {
          "base_uri": "https://localhost:8080/"
        },
        "id": "kjSmXdzczFoh",
        "outputId": "936eccc4-96c0-42f3-f4f9-682ded58a1fc"
      },
      "outputs": [
        {
          "name": "stdout",
          "output_type": "stream",
          "text": [
            "Defaulting to user installation because normal site-packages is not writeable\n",
            "Requirement already satisfied: Jinja2 in c:\\programdata\\anaconda3\\lib\\site-packages (3.1.4)\n",
            "Requirement already satisfied: MarkupSafe>=2.0 in c:\\programdata\\anaconda3\\lib\\site-packages (from Jinja2) (2.1.3)\n"
          ]
        }
      ],
      "source": [
        "!pip install Jinja2"
      ]
    },
    {
      "cell_type": "markdown",
      "metadata": {
        "id": "Puto8-5ILO2s"
      },
      "source": [
        "Required import statement"
      ]
    },
    {
      "cell_type": "code",
      "execution_count": 5,
      "metadata": {
        "id": "inUOAq0Yy_O5"
      },
      "outputs": [],
      "source": [
        "from huggingface_hub import ModelCard, ModelCardData"
      ]
    },
    {
      "cell_type": "markdown",
      "metadata": {
        "id": "TX5nkStaLTRC"
      },
      "source": [
        "Before running the cell below, upload the model card template (`COMP34812_modelcard_template.md`) provided to you using the Colab file browser (on the left-hand side)."
      ]
    },
    {
      "cell_type": "code",
      "execution_count": null,
      "metadata": {
        "colab": {
          "base_uri": "https://localhost:8080/"
        },
        "id": "pg4o6fuPbl5X",
        "outputId": "774c2aa5-66e3-445c-8624-9f43351cf8d0"
      },
      "outputs": [
        {
          "name": "stderr",
          "output_type": "stream",
          "text": [
            "Repo card metadata block was not found. Setting CardData to empty.\n"
          ]
        }
      ],
      "source": [
        "card_data = ModelCardData(\n",
        "    language='en',\n",
        "    license='cc-by-4.0',\n",
        "    tags=['text-classification'],\n",
        "    # change the line below to specify the URL to your Github/Gitlab repo\n",
        "    repo=\"https://github.com/AAP9002/COMP34812-NLU-NLI\",\n",
        "    ignore_metadata_errors=True)\n",
        "\n",
        "card = ModelCard.from_template(\n",
        "    card_data = card_data,\n",
        "    template_path='COMP34812_modelcard_template.md',\n",
        "    # change the following line to indicate your respective usernames\n",
        "    # and the abbreviation of the relevant track name, e.g., NLI, ED, AV\n",
        "    model_id = 'z72819ap-e91802zc-NLI',\n",
        "    base_model_repo = 'https://huggingface.co/FacebookAI/roberta-base',\n",
        "    base_model_paper = 'https://arxiv.org/abs/1907.11692',\n",
        "    base_model = 'roberta-base',\n",
        "    model_architecture = 'Transformers',\n",
        "    model_type = 'Supervised',\n",
        "    language = 'English',\n",
        "    model_summary = '''This is a classification model that was trained to detect whether a premise and hypothesis entail each other or not, using binary classification.''',\n",
        "    developers = 'Alan Prophett and Zac Curtis',\n",
        "    testing_data = 'A subset of the development set provided, amounting to 6K+ pairs.',\n",
        "    hyperparameters = '''\n",
        "    All Models and datasets\n",
        "      - seed: 42\n",
        "\n",
        "    Roberta Large NLI Binary Classification Model\n",
        "      - learning_rate: 2e-05\n",
        "      - train_batch_size: 16\n",
        "      - eval_batch_size: 16\n",
        "      - num_epochs: 5\n",
        "\n",
        "    Semantic Textual Similarity Binary Classification Model\n",
        "      - learning_rate: 2e-05\n",
        "      - train_batch_size: 16\n",
        "      - eval_batch_size: 16\n",
        "      - num_epochs: 5\n",
        "\n",
        "    Ensemble Meta Model\n",
        "      - learning_rate: 2e-05\n",
        "      - train_batch_size: 128\n",
        "      - eval_batch_size: 16\n",
        "      - num_epochs: 3\n",
        "      ''',\n",
        "    testing_metrics = '''\n",
        "      - Precision\n",
        "      - Recall\n",
        "      - F1-score\n",
        "      - Accuracy''',\n",
        "    results = 'The Ensemble Model obtained an F1-score of 91% and an accuracy of 91%.',\n",
        "    speeds_sizes_times = '''\n",
        "      - overall training time: 309 minutes 30 seconds\n",
        "\n",
        "    Roberta Large NLI Binary Classification Model\n",
        "      - duration per training epoch: 11 minutes\n",
        "      - model size: 1.42 GB\n",
        "\n",
        "    Semantic Textual Similarity Binary Classification Model\n",
        "      - duration per training epoch: 4 minutes 30 seconds\n",
        "      - model size: 501 MB\n",
        "\n",
        "    Ensamble Meta Model\n",
        "      - duration per training epoch: 4 minutes\n",
        "      - model size: 1.92 GB''',\n",
        "    model_description = '''This model is based upon a ensemble of RoBERTa models that was fine-tuned using over 24K premise-hypothesis pairs from the shared task dataset for Natural Language Inference (NLI).''',\n",
        "    hardware_requirements = '''\n",
        "      - RAM: at least 10 GB\n",
        "      - Storage: at least 4GB,\n",
        "      - GPU: a100 40GB''',\n",
        "    software = '''\n",
        "      - Tensorflow 2.18.0+cu12.4\n",
        "      - Transformers 4.50.3\n",
        "      - Pandas 2.2.2\n",
        "      - NumPy 2.0.2\n",
        "      - Seaborn 0.13.2\n",
        "      - Huggingface_hub 0.30.1\n",
        "      - Matplotlib 3.10.0\n",
        "      - Scikit-learn 1.6.1''',\n",
        "    bias_risks_limitations = '''Any inputs (concatenation of two sequences) longer than\n",
        "      512 subwords will be truncated by the model.''',\n",
        "    additional_information = '''The hyperparameters were determined by experimentation\n",
        "      with different values.''',\n",
        "    training_data = '24K+ premise-hypothesis pairs from the shared task dataset provided for Natural Language Inference (NLI).',\n",
        ")\n",
        "\n",
        "# the following lines will write a markdown (.md) file; this becomes one of your model cards\n",
        "# change the filename accordingly\n",
        "with open('my_model_card.md', 'w') as model_card:\n",
        "  model_card.write(card.content)"
      ]
    }
  ],
  "metadata": {
    "colab": {
      "provenance": []
    },
    "kernelspec": {
      "display_name": "base",
      "language": "python",
      "name": "python3"
    },
    "language_info": {
      "codemirror_mode": {
        "name": "ipython",
        "version": 3
      },
      "file_extension": ".py",
      "mimetype": "text/x-python",
      "name": "python",
      "nbconvert_exporter": "python",
      "pygments_lexer": "ipython3",
      "version": "3.12.7"
    }
  },
  "nbformat": 4,
  "nbformat_minor": 0
}
