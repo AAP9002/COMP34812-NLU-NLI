{
 "cells": [
  {
   "cell_type": "markdown",
   "metadata": {},
   "source": [
    "# Demo for Solution A – BiLSTM Model\n",
    "# Run this notebook to generate predictions on the test set."
   ]
  },
  {
   "cell_type": "code",
   "execution_count": null,
   "metadata": {},
   "outputs": [],
   "source": [
    "!pip install  tensorflow  pandas nltk numpy matplotlib scikit-learn sentencepiece tokenizers\n",
    "!pip install -U spacy[cuda12x]\n",
    "!python -m spacy download en_core_web_sm\n",
    "!pip install -q gdown"
   ]
  },
  {
   "cell_type": "code",
   "execution_count": null,
   "metadata": {},
   "outputs": [],
   "source": [
    "import pandas as pd\n",
    "import regex as re\n",
    "import numpy as np\n",
    "import nltk\n",
    "import os\n",
    "import tensorflow as tf\n",
    "import spacy\n",
    "import gdown\n",
    "nltk.download('punkt')\n",
    "from nltk.tokenize import word_tokenize"
   ]
  },
  {
   "cell_type": "code",
   "execution_count": null,
   "metadata": {},
   "outputs": [],
   "source": [
    "# Cell 3: Settings\n",
    "GLOVE_PATH = 'glove.6B.300d.txt'\n",
    "MODEL_PATH = 'bilstm_model.pt'\n",
    "TEST_PATH = 'test.csv'\n",
    "OUTPUT_PATH = 'predictions.csv'\n",
    "EMBEDDING_DIM = 300"
   ]
  },
  {
   "cell_type": "markdown",
   "metadata": {},
   "source": [
    "# Input file"
   ]
  },
  {
   "cell_type": "code",
   "execution_count": null,
   "metadata": {},
   "outputs": [],
   "source": [
    "USER_PATH = 'dev.csv' # change this to your user data path\n",
    "User_csv = pd.read_csv(USER_PATH)\n"
   ]
  },
  {
   "cell_type": "markdown",
   "metadata": {},
   "source": [
    "# Download From Cloud"
   ]
  },
  {
   "cell_type": "code",
   "execution_count": null,
   "metadata": {},
   "outputs": [],
   "source": [
    "# GloVe Embeddings (300D)\n",
    "glove_id = \"1iVUBiXUgN__xN_x0usyXt_otb_RWAenZ\"\n",
    "glove_output = \"glove.6B.300d.txt\"\n",
    "if not os.path.exists(glove_output):\n",
    "    gdown.download(f\"https://drive.google.com/uc?id={glove_id}\", glove_output, quiet=False)\n",
    "\n",
    "# Trained BiLSTM Model\n",
    "model_id = \"1-1So2oUrg6U0Hd1r_dl79lXxMs5K0vWZ\"\n",
    "model_output = \"bilstm_model.pt\"\n",
    "if not os.path.exists(model_output):\n",
    "    gdown.download(f\"https://drive.google.com/uc?id={model_id}\", model_output, quiet=False)"
   ]
  },
  {
   "cell_type": "markdown",
   "metadata": {},
   "source": [
    "# Cleaning \n"
   ]
  },
  {
   "cell_type": "code",
   "execution_count": null,
   "metadata": {},
   "outputs": [],
   "source": [
    "def clean_text(text):\n",
    "    text = str(text).lower()\n",
    "\n",
    "    # Keep basic punctuation (.,!?'), remove obscure punctuation\n",
    "    text = re.sub(r\"[^a-z0-9,.!?'\\s]\", ' ', text)\n",
    "    text = re.sub(r'\\s+', ' ', text).strip()\n",
    "\n",
    "    # Tokenize without removing stopwords or lemmatizing\n",
    "    text = nltk.word_tokenize(text)\n",
    "    \n",
    "    return text"
   ]
  },
  {
   "cell_type": "code",
   "execution_count": null,
   "metadata": {},
   "outputs": [],
   "source": [
    "User_csv['text'] = User_csv['text'].apply(clean_text)\n",
    "User_csv = User_csv[User_csv['premise'].notna() & User_csv['premise'].str.strip().ne('')]\n"
   ]
  },
  {
   "cell_type": "markdown",
   "metadata": {},
   "source": [
    "#Glove emeddings"
   ]
  },
  {
   "cell_type": "code",
   "execution_count": null,
   "metadata": {},
   "outputs": [],
   "source": [
    "glove = f\"./glove_embeddings/glove.6B.{EMBEDDING_DIM}d.txt\"\n",
    "def load_glove(glove_file):\n",
    "    embeddings_dict = {}\n",
    "    with open(glove_file, 'r', encoding='utf-8') as f:\n",
    "        for line in f:\n",
    "            values = line.strip().split()\n",
    "            word = values[0]\n",
    "            vector = np.array(values[1:], dtype=np.float32)  # <-- Convert to float32\n",
    "            embeddings_dict[word] = vector\n",
    "    return embeddings_dict"
   ]
  }
 ],
 "metadata": {
  "kernelspec": {
   "display_name": ".venv",
   "language": "python",
   "name": "python3"
  },
  "language_info": {
   "name": "python",
   "version": "3.10.7"
  }
 },
 "nbformat": 4,
 "nbformat_minor": 2
}
